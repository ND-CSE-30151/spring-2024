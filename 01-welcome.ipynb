{
  "nbformat": 4,
  "nbformat_minor": 0,
  "metadata": {
    "colab": {
      "provenance": [],
      "authorship_tag": "ABX9TyOxjHD3bhyGGKFG1/7fTVsL",
      "include_colab_link": true
    },
    "kernelspec": {
      "name": "python3",
      "display_name": "Python 3"
    },
    "language_info": {
      "name": "python"
    }
  },
  "cells": [
    {
      "cell_type": "markdown",
      "metadata": {
        "id": "view-in-github",
        "colab_type": "text"
      },
      "source": [
        "<a href=\"https://colab.research.google.com/github/ND-CSE-30151/spring-2024/blob/main/01-welcome.ipynb\" target=\"_parent\"><img src=\"https://colab.research.google.com/assets/colab-badge.svg\" alt=\"Open In Colab\"/></a>"
      ]
    },
    {
      "cell_type": "markdown",
      "metadata": {
        "id": "pfMOf7DX7_q6"
      },
      "source": [
        "# Notebook 1: Welcome"
      ]
    },
    {
      "cell_type": "markdown",
      "metadata": {
        "id": "EO_ZSDBt7_q_"
      },
      "source": [
        "## About these notes\n",
        "\n",
        "These notes are _not_ a replacement for the (excellent) textbook. They correspond roughly to the content of my lectures, but also include pointers to readings in the textbook, which usually go into a lot more detail. Unless marked optional, you're responsible for both the notes as well as any readings/videos that they point to."
      ]
    },
    {
      "cell_type": "markdown",
      "metadata": {
        "id": "xteSTq_j7_rA"
      },
      "source": [
        "## Overview\n",
        "\n",
        "<div class=\"alert alert-info\">\n",
        "    <p><b>Read</b> 0.1, which is an overview of the whole course.</p>\n",
        "</div>\n",
        "\n",
        "Welcome to *Theory of Computing*!\n",
        "\n",
        "I'd like to introduce the course with a game called Poco. Please visit [https://bit.ly/playpoco](https://bit.ly/playpoco) and play a few levels. Then, think about: how would you make a computer play this game perfectly? If a puzzle has a solution, the computer must find it, but if a puzzle has no solution, the computer must click the \"give up\" button.\n",
        "\n",
        "To give a definite answer to this question, we need three ingredients. These ingredients will be part of everything we do in this course.\n",
        "\n",
        "First, we need a **model of computation**, a definition of what a computer is and does.\n",
        "\n",
        "Second, we need to define our **computational problem**, in this case, \"playing Poco perfectly,\" in a precise way.\n",
        "\n",
        "Third, we need to **prove a relationship** between models of computation and/or computational problems: in this case, whether a computer can play Poco perfectly."
      ]
    },
    {
      "cell_type": "markdown",
      "metadata": {
        "id": "bc5JC4oo7_rB"
      },
      "source": [
        "## Computation\n",
        "    \n",
        "What is a computer? Most of you are juniors in computer science, and by the end of this year, we hope you'll understand, from bottom to top, how a C/C++/Python program running on Linux running on x86/ARM/MIPS works. But we want your computer science degree to be good for a lifetime. In 50 years, what kinds of computers will you be programming, building, or even inventing? In this course, we want to teach you what we believe to be true, not just about a particular kind of computer, but about all computers, past, present, and future.\n",
        "\n",
        "To do this, we need to look to the beginning. Historically, the answer to this question came from a totally different direction, from people asking not \"what is a computer,\" but \"what does it mean to compute?\" For in 1936, everyone knew what a computer was. A printer is a person who prints; a dishwasher is a person who washes dishes; and a computer is a person who computes. For example, when you do arithmetic or solve a system of linear equations or find a derivative, you're computing -- you're following an algorithm that you learned in school. But some math requires more ingenuity, like writing proofs. In the early 20th century, mathematicians were starting to wonder whether there was an \"effective procedure\" (we would say, an algorithm) for writing proofs too.\n",
        "\n",
        "In 1936, Turing published [the paper](https://doi.org/10.1112/plms/s2-42.1.230) that many consider to be the founding document of computer science. His answer to the question about what was meant by an \"effective procedure\" was not the first, but it was the most convincing. He imagined a computing person with access to an unlimited supply of paper, argued convincingly for various simplifying assumptions about how he/she computes, and finally imagined a machine (which he called an a-machine, but which we now call a **Turing machine**) that would do the same thing automatically.\n",
        "\n",
        "Although Turing machines were invented just as a mathematical construct, they are important for computer science because all current computers (under some reasonable assumptions) can be emulated by a Turing machine. We will further argue that even computers of the future can be emulated by Turing machines. If you accept these arguments, then Turing machines serve as our definition of what a computer is: if something can be done on a computer, it can be done on a Turing machine; if something cannot be done on a Turing machine, it cannot be done on any other computer.\n",
        "\n",
        "Before we get there in Unit III, we will study several simpler models of computation in Units I and II. You're probably familiar with two of them already: **deterministic finite automata** (also known as finite state machines) and **regular expressions**. And in Unit IV, we will continue to study Turing machines, but we'll restrict them to use only **polynomial time**."
      ]
    },
    {
      "cell_type": "markdown",
      "metadata": {
        "id": "1gDoDfIl7_rC"
      },
      "source": [
        "## Problems\n",
        "\n",
        "The second ingredient is that we need a way of talking about computational problems. It would seem that there are so many different kinds of things that computers do, that we have to study each kind separately. But maybe we can reduce them all to one kind of problem, and focus our study on that one kind of problem. Namely, we want to treat every kind of object as a **string of symbols** (e.g., bits), and we want to treat every kind of computational problem as a **yes/no question about strings**.\n",
        "\n",
        "People are fairly comfortable these days with the idea that any kind of object we might want to compute about can be represented as a string. We deal every day with messages, music, pictures, movies, books, etc., in digital form, with the awareness that these are just strings of 0’s and 1’s.\n",
        "\n",
        "Less obvious, perhaps, is that it makes sense to reduce all kinds of computations down to yes/no questions about strings. There are a number of objections that could be raised and which we can discuss in class, but perhaps the most glaring one is that the output from a computer program is much more than just a \"yes\" or \"no\" answer. For example, suppose we want a program that looks at a chess board `b` and outputs the best next move -- that's not a yes/no question. But suppose further that we can write a function `is_best_move` that takes a chess board, a possible next move `m`, and returns \"yes\" if `m` is the best move and \"no\" otherwise. Then we can write a function\n",
        "\n",
        "    def find_best_move(board):\n",
        "        for all possible moves m:\n",
        "            if is_best_move(board, m):\n",
        "                return m\n",
        "\n",
        "Since it's possible to implement any function as a wrapper around a function that returns yes/no, it's sufficient, for pretty much the rest of the course, to only think about computations that result in a yes/no answer. (Caveat: Implementing a function this way can be *much slower* than implementing it directly, but for the first three units of the course, we don't care about efficiency. In Unit IV, we will talk about how to improve the efficiency of this trick.)"
      ]
    },
    {
      "cell_type": "markdown",
      "source": [
        "## Proofs\n",
        "\n",
        "The third ingredient is that we want to be able to prove **relationships among computational models and problems**. For example:\n",
        "\n",
        "- Problem $L$ can be solved by model $M$.\n",
        "- Problem $L$ can't be solved by model $M$.\n",
        "- For every problem $L$ solvable by model $M$, there's a related problem $L'$ also solvable by model $M$.\n",
        "- Every problem $L$ that is solvable by model $M$ is also solvable by model $M'$.\n",
        "\n",
        "This semester, you will learn how to prove these and other such relationships. Some will have direct practical significance and some, maybe not so much, but all of them will hopefully help you to reason rigorously about the real-world problems you work on and the hardware and software resources that you use to solve them.\n"
      ],
      "metadata": {
        "id": "pZLok9tu3qOw"
      }
    }
  ]
}